{
 "cells": [
  {
   "cell_type": "code",
   "execution_count": 1,
   "id": "b7bff641",
   "metadata": {},
   "outputs": [],
   "source": [
    "import os\n",
    "import torch\n",
    "import torch.nn as nn\n",
    "import torch.optim as optim\n",
    "from torch.utils.data import DataLoader\n",
    "from transformers import BertTokenizer, BertModel\n",
    "from datasets import load_dataset\n",
    "from torch.amp import autocast, GradScaler\n",
    "from tqdm import tqdm\n",
    "from sklearn.metrics import classification_report, confusion_matrix\n",
    "import matplotlib.pyplot as plt\n",
    "import seaborn as sns\n",
    "import numpy as np\n",
    "from datasets import concatenate_datasets"
   ]
  },
  {
   "cell_type": "code",
   "execution_count": 2,
   "id": "eb7abb11",
   "metadata": {},
   "outputs": [
    {
     "name": "stdout",
     "output_type": "stream",
     "text": [
      "Using device: cuda\n",
      "Training dataset label distribution: ['neg', 'pos']\n",
      "Test dataset label distribution: ['neg', 'pos']\n"
     ]
    }
   ],
   "source": [
    "# Optional: Disable symlink warning\n",
    "os.environ[\"HF_HUB_DISABLE_SYMLINKS_WARNING\"] = \"1\"\n",
    "\n",
    "# Set device\n",
    "device = torch.device(\"cuda\" if torch.cuda.is_available() else \"cpu\")\n",
    "print(\"Using device:\", device)\n",
    "\n",
    "# Load the full IMDB dataset\n",
    "dataset = load_dataset(\"imdb\")\n",
    "\n",
    "# Print label distribution for better understanding\n",
    "print(\"Training dataset label distribution:\", dataset[\"train\"].features[\"label\"].names)\n",
    "print(\"Test dataset label distribution:\", dataset[\"test\"].features[\"label\"].names)"
   ]
  },
  {
   "cell_type": "code",
   "execution_count": 3,
   "id": "52d56b39",
   "metadata": {},
   "outputs": [],
   "source": [
    "# Separate the positive and negative samples from the training and test sets\n",
    "positive_train_data = dataset[\"train\"].filter(lambda example: example[\"label\"] == 1)\n",
    "negative_train_data = dataset[\"train\"].filter(lambda example: example[\"label\"] == 0)\n",
    "\n",
    "positive_test_data = dataset[\"test\"].filter(lambda example: example[\"label\"] == 1)\n",
    "negative_test_data = dataset[\"test\"].filter(lambda example: example[\"label\"] == 0)\n",
    "\n",
    "\n",
    "\n",
    "# Balance the datasets by selecting an equal number of samples from both classes\n",
    "balanced_train_data = concatenate_datasets([positive_train_data.select(range(2500)), negative_train_data.select(range(2500))])\n",
    "balanced_test_data = concatenate_datasets([positive_test_data.select(range(400)), negative_test_data.select(range(400))])\n"
   ]
  },
  {
   "cell_type": "code",
   "execution_count": 4,
   "id": "07cc3d88",
   "metadata": {},
   "outputs": [
    {
     "name": "stdout",
     "output_type": "stream",
     "text": [
      "Tokenizing...\n"
     ]
    },
    {
     "data": {
      "application/vnd.jupyter.widget-view+json": {
       "model_id": "7202c6ab22a54182a611caca5755148c",
       "version_major": 2,
       "version_minor": 0
      },
      "text/plain": [
       "Map:   0%|          | 0/5000 [00:00<?, ? examples/s]"
      ]
     },
     "metadata": {},
     "output_type": "display_data"
    }
   ],
   "source": [
    "# Load tokenizer\n",
    "tokenizer = BertTokenizer.from_pretrained(\"bert-base-uncased\")\n",
    "\n",
    "# Tokenization function\n",
    "def tokenize_function(example):\n",
    "    return tokenizer(example[\"text\"], padding=\"max_length\", truncation=True, max_length=256)\n",
    "\n",
    "print(\"Tokenizing...\")\n",
    "tokenized_train = balanced_train_data.map(tokenize_function, batched=True)\n",
    "tokenized_test = balanced_test_data.map(tokenize_function, batched=True)\n",
    "tokenized_train.set_format(type='torch', columns=['input_ids', 'attention_mask', 'label'])\n",
    "tokenized_test.set_format(type='torch', columns=['input_ids', 'attention_mask', 'label'])\n"
   ]
  },
  {
   "cell_type": "code",
   "execution_count": 5,
   "id": "7b5889fd",
   "metadata": {},
   "outputs": [],
   "source": [
    "# DataLoader\n",
    "train_loader = DataLoader(tokenized_train, batch_size=64, shuffle=True)\n",
    "test_loader = DataLoader(tokenized_test, batch_size=64,  shuffle= False)"
   ]
  },
  {
   "cell_type": "code",
   "execution_count": 6,
   "id": "02984803",
   "metadata": {},
   "outputs": [],
   "source": [
    "# Model definition\n",
    "class BERTClassifier(nn.Module):\n",
    "    def __init__(self, bert):\n",
    "        super(BERTClassifier, self).__init__()\n",
    "        self.bert = bert\n",
    "        self.fc = nn.Linear(bert.config.hidden_size, 1)\n",
    "\n",
    "    def forward(self, input_ids, attention_mask):\n",
    "        outputs = self.bert(input_ids=input_ids, attention_mask=attention_mask)\n",
    "        cls_output = outputs.pooler_output\n",
    "        return self.fc(cls_output)\n"
   ]
  },
  {
   "cell_type": "code",
   "execution_count": 7,
   "id": "16b5bca4",
   "metadata": {},
   "outputs": [],
   "source": [
    "model = BERTClassifier(BertModel.from_pretrained(\"bert-base-uncased\")).to(device)\n",
    "\n",
    "# Loss and optimizer\n",
    "criterion = nn.BCEWithLogitsLoss()\n",
    "optimizer = optim.Adam(model.parameters(), lr=2e-5)\n",
    "scaler = GradScaler(device)"
   ]
  },
  {
   "cell_type": "code",
   "execution_count": 8,
   "id": "b8ef9ef6",
   "metadata": {},
   "outputs": [
    {
     "name": "stderr",
     "output_type": "stream",
     "text": [
      "Epoch 1: 100%|██████████| 79/79 [09:55<00:00,  7.54s/it, acc=0.823, loss=0.0515]\n"
     ]
    },
    {
     "name": "stdout",
     "output_type": "stream",
     "text": [
      "Epoch 1 | Train Loss: 0.4071, Acc: 0.8232 | Val Loss: 0.2606, Acc: 0.8888\n"
     ]
    },
    {
     "name": "stderr",
     "output_type": "stream",
     "text": [
      "Epoch 2: 100%|██████████| 79/79 [09:51<00:00,  7.49s/it, acc=0.93, loss=0.0258] \n"
     ]
    },
    {
     "name": "stdout",
     "output_type": "stream",
     "text": [
      "Epoch 2 | Train Loss: 0.2045, Acc: 0.9298 | Val Loss: 0.2602, Acc: 0.8988\n"
     ]
    },
    {
     "name": "stderr",
     "output_type": "stream",
     "text": [
      "Epoch 3: 100%|██████████| 79/79 [09:54<00:00,  7.52s/it, acc=0.966, loss=0.0134]\n"
     ]
    },
    {
     "name": "stdout",
     "output_type": "stream",
     "text": [
      "Epoch 3 | Train Loss: 0.1060, Acc: 0.9664 | Val Loss: 0.2789, Acc: 0.8900\n"
     ]
    },
    {
     "name": "stderr",
     "output_type": "stream",
     "text": [
      "Epoch 4: 100%|██████████| 79/79 [10:05<00:00,  7.66s/it, acc=0.98, loss=0.00878] \n"
     ]
    },
    {
     "name": "stdout",
     "output_type": "stream",
     "text": [
      "Epoch 4 | Train Loss: 0.0694, Acc: 0.9802 | Val Loss: 0.2986, Acc: 0.9075\n"
     ]
    },
    {
     "name": "stderr",
     "output_type": "stream",
     "text": [
      "Epoch 5: 100%|██████████| 79/79 [09:53<00:00,  7.51s/it, acc=0.988, loss=0.00541]\n"
     ]
    },
    {
     "name": "stdout",
     "output_type": "stream",
     "text": [
      "Epoch 5 | Train Loss: 0.0428, Acc: 0.9884 | Val Loss: 0.3593, Acc: 0.9000\n"
     ]
    },
    {
     "name": "stderr",
     "output_type": "stream",
     "text": [
      "Epoch 6: 100%|██████████| 79/79 [10:00<00:00,  7.60s/it, acc=0.989, loss=0.00479]\n"
     ]
    },
    {
     "name": "stdout",
     "output_type": "stream",
     "text": [
      "Epoch 6 | Train Loss: 0.0379, Acc: 0.9894 | Val Loss: 0.3361, Acc: 0.9050\n"
     ]
    },
    {
     "name": "stderr",
     "output_type": "stream",
     "text": [
      "Epoch 7: 100%|██████████| 79/79 [09:56<00:00,  7.55s/it, acc=0.994, loss=0.00296]\n"
     ]
    },
    {
     "name": "stdout",
     "output_type": "stream",
     "text": [
      "Epoch 7 | Train Loss: 0.0234, Acc: 0.9944 | Val Loss: 0.3405, Acc: 0.9175\n"
     ]
    },
    {
     "name": "stderr",
     "output_type": "stream",
     "text": [
      "Epoch 8: 100%|██████████| 79/79 [09:56<00:00,  7.55s/it, acc=0.996, loss=0.00211]\n"
     ]
    },
    {
     "name": "stdout",
     "output_type": "stream",
     "text": [
      "Epoch 8 | Train Loss: 0.0167, Acc: 0.9956 | Val Loss: 0.3704, Acc: 0.9150\n"
     ]
    },
    {
     "name": "stderr",
     "output_type": "stream",
     "text": [
      "Epoch 9: 100%|██████████| 79/79 [09:56<00:00,  7.56s/it, acc=0.994, loss=0.00284]\n"
     ]
    },
    {
     "name": "stdout",
     "output_type": "stream",
     "text": [
      "Epoch 9 | Train Loss: 0.0225, Acc: 0.9942 | Val Loss: 0.3557, Acc: 0.9150\n"
     ]
    },
    {
     "name": "stderr",
     "output_type": "stream",
     "text": [
      "Epoch 10: 100%|██████████| 79/79 [09:53<00:00,  7.52s/it, acc=0.991, loss=0.00306]\n"
     ]
    },
    {
     "name": "stdout",
     "output_type": "stream",
     "text": [
      "Epoch 10 | Train Loss: 0.0242, Acc: 0.9912 | Val Loss: 0.4179, Acc: 0.9038\n"
     ]
    },
    {
     "name": "stderr",
     "output_type": "stream",
     "text": [
      "Epoch 11: 100%|██████████| 79/79 [09:49<00:00,  7.46s/it, acc=0.998, loss=0.0012]  \n"
     ]
    },
    {
     "name": "stdout",
     "output_type": "stream",
     "text": [
      "Epoch 11 | Train Loss: 0.0095, Acc: 0.9976 | Val Loss: 0.4487, Acc: 0.9050\n"
     ]
    },
    {
     "name": "stderr",
     "output_type": "stream",
     "text": [
      "Epoch 12: 100%|██████████| 79/79 [09:42<00:00,  7.37s/it, acc=0.999, loss=0.000816]\n"
     ]
    },
    {
     "name": "stdout",
     "output_type": "stream",
     "text": [
      "Epoch 12 | Train Loss: 0.0065, Acc: 0.9988 | Val Loss: 0.4676, Acc: 0.9000\n"
     ]
    },
    {
     "name": "stderr",
     "output_type": "stream",
     "text": [
      "Epoch 13: 100%|██████████| 79/79 [09:42<00:00,  7.37s/it, acc=0.996, loss=0.00143] \n"
     ]
    },
    {
     "name": "stdout",
     "output_type": "stream",
     "text": [
      "Epoch 13 | Train Loss: 0.0113, Acc: 0.9956 | Val Loss: 0.4379, Acc: 0.9062\n"
     ]
    },
    {
     "name": "stderr",
     "output_type": "stream",
     "text": [
      "Epoch 14: 100%|██████████| 79/79 [09:41<00:00,  7.36s/it, acc=0.996, loss=0.00167] \n"
     ]
    },
    {
     "name": "stdout",
     "output_type": "stream",
     "text": [
      "Epoch 14 | Train Loss: 0.0132, Acc: 0.9960 | Val Loss: 0.4544, Acc: 0.8962\n"
     ]
    },
    {
     "name": "stderr",
     "output_type": "stream",
     "text": [
      "Epoch 15: 100%|██████████| 79/79 [09:41<00:00,  7.36s/it, acc=0.997, loss=0.0013]  \n"
     ]
    },
    {
     "name": "stdout",
     "output_type": "stream",
     "text": [
      "Epoch 15 | Train Loss: 0.0103, Acc: 0.9970 | Val Loss: 0.3810, Acc: 0.9113\n"
     ]
    },
    {
     "name": "stderr",
     "output_type": "stream",
     "text": [
      "Epoch 16: 100%|██████████| 79/79 [09:41<00:00,  7.36s/it, acc=0.999, loss=0.000477]\n"
     ]
    },
    {
     "name": "stdout",
     "output_type": "stream",
     "text": [
      "Epoch 16 | Train Loss: 0.0038, Acc: 0.9988 | Val Loss: 0.5142, Acc: 0.8925\n"
     ]
    },
    {
     "name": "stderr",
     "output_type": "stream",
     "text": [
      "Epoch 17: 100%|██████████| 79/79 [09:41<00:00,  7.36s/it, acc=0.998, loss=0.00091] \n"
     ]
    },
    {
     "name": "stdout",
     "output_type": "stream",
     "text": [
      "Epoch 17 | Train Loss: 0.0072, Acc: 0.9980 | Val Loss: 0.4437, Acc: 0.9100\n"
     ]
    },
    {
     "name": "stderr",
     "output_type": "stream",
     "text": [
      "Epoch 18: 100%|██████████| 79/79 [09:41<00:00,  7.36s/it, acc=0.999, loss=0.000467]\n"
     ]
    },
    {
     "name": "stdout",
     "output_type": "stream",
     "text": [
      "Epoch 18 | Train Loss: 0.0037, Acc: 0.9986 | Val Loss: 0.6213, Acc: 0.8862\n"
     ]
    },
    {
     "name": "stderr",
     "output_type": "stream",
     "text": [
      "Epoch 19: 100%|██████████| 79/79 [09:41<00:00,  7.36s/it, acc=0.999, loss=0.000344]\n"
     ]
    },
    {
     "name": "stdout",
     "output_type": "stream",
     "text": [
      "Epoch 19 | Train Loss: 0.0027, Acc: 0.9990 | Val Loss: 0.5235, Acc: 0.9025\n"
     ]
    },
    {
     "name": "stderr",
     "output_type": "stream",
     "text": [
      "Epoch 20: 100%|██████████| 79/79 [09:41<00:00,  7.36s/it, acc=1, loss=7.06e-5]\n"
     ]
    },
    {
     "name": "stdout",
     "output_type": "stream",
     "text": [
      "Epoch 20 | Train Loss: 0.0006, Acc: 1.0000 | Val Loss: 0.5580, Acc: 0.9125\n"
     ]
    }
   ],
   "source": [
    "import matplotlib.pyplot as plt\n",
    "from tqdm import tqdm\n",
    "\n",
    "train_losses, val_losses = [], []\n",
    "train_accuracies, val_accuracies = [], []\n",
    "\n",
    "for epoch in range(20):  # 20 epochs\n",
    "    model.train()\n",
    "    total_loss = 0\n",
    "    correct = 0\n",
    "    total = 0\n",
    "    loop = tqdm(train_loader, desc=f\"Epoch {epoch+1}\")\n",
    "\n",
    "    for batch in loop:\n",
    "        input_ids = batch['input_ids'].to(device)\n",
    "        attention_mask = batch['attention_mask'].to(device)\n",
    "        labels = batch['label'].float().unsqueeze(1).to(device)  # shape: (B, 1)\n",
    "\n",
    "        optimizer.zero_grad()\n",
    "        with autocast(device_type='cuda' if torch.cuda.is_available() else 'cpu'):\n",
    "            outputs = model(input_ids, attention_mask)\n",
    "            loss = criterion(outputs, labels)\n",
    "\n",
    "        scaler.scale(loss).backward()\n",
    "        scaler.step(optimizer)\n",
    "        scaler.update()\n",
    "\n",
    "        total_loss += loss.item()\n",
    "        preds = (torch.sigmoid(outputs) > 0.5).float()\n",
    "        correct += (preds == labels).sum().item()\n",
    "        total += labels.size(0)\n",
    "\n",
    "        loop.set_postfix(loss=total_loss / (total / 8), acc=correct / total)\n",
    "\n",
    "    # Record training metrics\n",
    "    epoch_loss = total_loss / len(train_loader)\n",
    "    epoch_acc = correct / total\n",
    "    train_losses.append(epoch_loss)\n",
    "    train_accuracies.append(epoch_acc)\n",
    "\n",
    "    # Validation\n",
    "    model.eval()\n",
    "    val_loss = 0\n",
    "    val_correct = 0\n",
    "    val_total = 0\n",
    "\n",
    "    with torch.no_grad():\n",
    "        for batch in test_loader:\n",
    "            input_ids = batch['input_ids'].to(device)\n",
    "            attention_mask = batch['attention_mask'].to(device)\n",
    "            labels = batch['label'].float().unsqueeze(1).to(device)\n",
    "\n",
    "            outputs = model(input_ids, attention_mask)\n",
    "            loss = criterion(outputs, labels)\n",
    "\n",
    "            val_loss += loss.item()\n",
    "            preds = (torch.sigmoid(outputs) > 0.5).float()\n",
    "            val_correct += (preds == labels).sum().item()\n",
    "            val_total += labels.size(0)\n",
    "\n",
    "    val_losses.append(val_loss / len(test_loader))\n",
    "    val_accuracies.append(val_correct / val_total)\n",
    "\n",
    "    print(f\"Epoch {epoch+1} | Train Loss: {epoch_loss:.4f}, Acc: {epoch_acc:.4f} | Val Loss: {val_losses[-1]:.4f}, Acc: {val_accuracies[-1]:.4f}\")\n"
   ]
  },
  {
   "cell_type": "code",
   "execution_count": 9,
   "id": "e88176f8",
   "metadata": {},
   "outputs": [],
   "source": [
    "# Evaluation of the model\n",
    "model.eval()\n",
    "correct = 0\n",
    "total = 0\n",
    "all_preds = []\n",
    "all_labels = []\n",
    "\n",
    "with torch.no_grad():\n",
    "    for batch in test_loader:\n",
    "        input_ids = batch['input_ids'].to(device)\n",
    "        attention_mask = batch['attention_mask'].to(device)\n",
    "        labels = batch['label'].float().unsqueeze(1).to(device)\n",
    "\n",
    "        with autocast(device_type='cuda' if torch.cuda.is_available() else 'cpu'):\n",
    "            outputs = model(input_ids, attention_mask)\n",
    "            preds = (torch.sigmoid(outputs) > 0.5).float()\n",
    "\n",
    "            all_preds.extend(preds.cpu().numpy())\n",
    "            all_labels.extend(labels.cpu().numpy())\n",
    "\n",
    "            correct += (preds == labels).sum().item()\n",
    "            total += labels.size(0)"
   ]
  },
  {
   "cell_type": "code",
   "execution_count": 10,
   "id": "f8d770aa",
   "metadata": {},
   "outputs": [
    {
     "name": "stdout",
     "output_type": "stream",
     "text": [
      "Test Accuracy: 0.9125\n"
     ]
    }
   ],
   "source": [
    "accuracy = correct / total\n",
    "print(f\"Test Accuracy: {accuracy:.4f}\")"
   ]
  },
  {
   "cell_type": "code",
   "execution_count": 11,
   "id": "8a20dad0",
   "metadata": {},
   "outputs": [
    {
     "name": "stdout",
     "output_type": "stream",
     "text": [
      "\n",
      "Classification Report (Test Data):\n",
      "              precision    recall  f1-score   support\n",
      "\n",
      "         0.0       0.90      0.93      0.91       400\n",
      "         1.0       0.93      0.90      0.91       400\n",
      "\n",
      "    accuracy                           0.91       800\n",
      "   macro avg       0.91      0.91      0.91       800\n",
      "weighted avg       0.91      0.91      0.91       800\n",
      "\n"
     ]
    }
   ],
   "source": [
    "# Classification Report\n",
    "print(\"\\nClassification Report (Test Data):\")\n",
    "print(classification_report(all_labels, all_preds))"
   ]
  },
  {
   "cell_type": "code",
   "execution_count": 12,
   "id": "2a409faf",
   "metadata": {},
   "outputs": [
    {
     "data": {
      "image/png": "[encoded data removed]",
      "text/plain": [
       "<Figure size 600x600 with 2 Axes>"
      ]
     },
     "metadata": {},
     "output_type": "display_data"
    }
   ],
   "source": [
    "# Confusion Matrix\n",
    "cm = confusion_matrix(all_labels, all_preds, labels=[0.0, 1.0])\n",
    "\n",
    "# Plot Confusion Matrix\n",
    "plt.figure(figsize=(6,6))\n",
    "sns.heatmap(cm, annot=True, fmt=\"d\", cmap=\"Blues\", xticklabels=[\"Negative\", \"Positive\"], yticklabels=[\"Negative\", \"Positive\"])\n",
    "plt.ylabel('True Label')\n",
    "plt.xlabel('Predicted Label')\n",
    "plt.title('Confusion Matrix')\n",
    "plt.show()"
   ]
  },
  {
   "cell_type": "code",
   "execution_count": 13,
   "id": "b05a727d",
   "metadata": {},
   "outputs": [
    {
     "data": {
      "image/png": "[encoded data removed]",
      "text/plain": [
       "<Figure size 1200x500 with 2 Axes>"
      ]
     },
     "metadata": {},
     "output_type": "display_data"
    }
   ],
   "source": [
    "import matplotlib.pyplot as plt\n",
    "\n",
    "epochs = range(1, len(train_losses) + 1)  # dynamically set length\n",
    "\n",
    "plt.figure(figsize=(12, 5))\n",
    "\n",
    "# Plotting Loss\n",
    "plt.subplot(1, 2, 2)\n",
    "plt.plot(epochs, train_losses, label='Train Loss')\n",
    "if len(val_losses) == len(train_losses):  # Safe check\n",
    "    plt.plot(epochs, val_losses, label='Validation Loss')\n",
    "plt.xlabel('Epoch')\n",
    "plt.ylabel('Loss')\n",
    "plt.title('Loss Curve')\n",
    "plt.legend()\n",
    "plt.grid(True)\n",
    "# Plotting Accuracy\n",
    "plt.subplot(1, 2, 1)\n",
    "plt.plot(epochs, train_accuracies, label='Train Accuracy')\n",
    "if len(val_accuracies) == len(train_accuracies):\n",
    "    plt.plot(epochs, val_accuracies, label='Validation Accuracy')\n",
    "plt.xlabel('Epoch')\n",
    "plt.ylabel('Accuracy')\n",
    "plt.title('Accuracy Curve')\n",
    "plt.legend()\n",
    "plt.grid(True)\n",
    "plt.tight_layout()\n",
    "plt.show()\n"
   ]
  },
  {
   "cell_type": "code",
   "execution_count": 14,
   "id": "a006b480",
   "metadata": {},
   "outputs": [
    {
     "name": "stdout",
     "output_type": "stream",
     "text": [
      "\n",
      "Input Text: Every one should watch the movie at least once\n",
      "Predicted Sentiment: Positive (Confidence: 0.67)\n",
      "\n",
      "Input Text: This movie was boring and didn't make sense.\n",
      "Predicted Sentiment: Negative (Confidence: 0.00)\n"
     ]
    }
   ],
   "source": [
    "# Define a function to predict sentiment of custom text input\n",
    "def predict_sentiment(text, model, tokenizer, device):\n",
    "    model.eval()\n",
    "    with torch.no_grad():\n",
    "        # Tokenize input\n",
    "        encoding = tokenizer(\n",
    "            text,\n",
    "            return_tensors='pt',\n",
    "            truncation=True,\n",
    "            padding='max_length',\n",
    "            max_length=256\n",
    "        )\n",
    "        input_ids = encoding['input_ids'].to(device)\n",
    "        attention_mask = encoding['attention_mask'].to(device)\n",
    "\n",
    "        # Predict\n",
    "        output = model(input_ids, attention_mask)\n",
    "        prob = torch.sigmoid(output)\n",
    "\n",
    "        # Result\n",
    "        sentiment = \"Positive\" if prob.item() > 0.5 else \"Negative\"\n",
    "        print(f\"\\nInput Text: {text}\")\n",
    "        print(f\"Predicted Sentiment: {sentiment} (Confidence: {prob.item():.2f})\")\n",
    "\n",
    "# Example: Try predicting sentiment for new input\n",
    "user_input = \"Every one should watch the movie at least once\"\n",
    "predict_sentiment(user_input, model, tokenizer, device)\n",
    "\n",
    "user_input = \"This movie was boring and didn't make sense.\"\n",
    "predict_sentiment(user_input, model, tokenizer, device)\n"
   ]
  }
 ],
 "metadata": {
  "kernelspec": {
   "display_name": "PyTorch",
   "language": "python",
   "name": "pytorch"
  },
  "language_info": {
   "codemirror_mode": {
    "name": "ipython",
    "version": 3
   },
   "file_extension": ".py",
   "mimetype": "text/x-python",
   "name": "python",
   "nbconvert_exporter": "python",
   "pygments_lexer": "ipython3",
   "version": "3.12.9"
  }
 },
 "nbformat": 4,
 "nbformat_minor": 5
}
